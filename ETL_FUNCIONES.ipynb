{
 "cells": [
  {
   "cell_type": "code",
   "execution_count": 4,
   "metadata": {},
   "outputs": [],
   "source": [
    "import pandas as pd\n",
    "import numpy as np\n",
    "import ast\n",
    "from langdetect import detect\n",
    "from tabulate import tabulate\n"
   ]
  },
  {
   "cell_type": "markdown",
   "metadata": {},
   "source": [
    "### 1. CARGA DE DATOS"
   ]
  },
  {
   "cell_type": "code",
   "execution_count": 5,
   "metadata": {},
   "outputs": [
    {
     "name": "stdout",
     "output_type": "stream",
     "text": [
      "  publisher genres app_name title   url release_date  tags reviews_url specs  \\\n",
      "0      None   None     None  None  None         None  None        None  None   \n",
      "1      None   None     None  None  None         None  None        None  None   \n",
      "2      None   None     None  None  None         None  None        None  None   \n",
      "3      None   None     None  None  None         None  None        None  None   \n",
      "4      None   None     None  None  None         None  None        None  None   \n",
      "\n",
      "  price  early_access  id developer  \n",
      "0  None           NaN NaN      None  \n",
      "1  None           NaN NaN      None  \n",
      "2  None           NaN NaN      None  \n",
      "3  None           NaN NaN      None  \n",
      "4  None           NaN NaN      None  \n"
     ]
    }
   ],
   "source": [
    "# Se lee el archivo output_steam_games.json que esta definido como un unico objeto json y se define el dataframe correspondiente\n",
    "\n",
    "df_games = pd.read_json('./Datasets/output_steam_games.json', lines=True)\n",
    "print(df_games.head())   # Se observan una gran cantidad de valores nulos en la filas iniciales\n",
    "\n",
    "#print(df_games.tail())\n"
   ]
  },
  {
   "cell_type": "code",
   "execution_count": 6,
   "metadata": {},
   "outputs": [],
   "source": [
    "# Se leen los otros 2 archivos json, donde cada línea del archivo contiene un objeto json\n",
    "\n",
    "def load_json_lines(file_path):\n",
    "    data = []\n",
    "    with open(file_path, \"r\", encoding=\"utf-8\") as file:\n",
    "        for line in file:\n",
    "            data.append(ast.literal_eval(line))\n",
    "    return pd.DataFrame(data)\n",
    "\n",
    "df_reviews = load_json_lines(\"./Datasets/australian_user_reviews.json\")\n",
    "df_items = load_json_lines(\"./Datasets/australian_users_items.json\")"
   ]
  },
  {
   "cell_type": "code",
   "execution_count": null,
   "metadata": {},
   "outputs": [],
   "source": [
    "# Vista preliminar de los datos\n",
    "#print(df_reviews.head())\n",
    "#print(df_reviews.tail())\n",
    "\n",
    "#print(df_items.head())\n",
    "#print(df_items.tail())\n",
    "\n",
    "with pd.option_context('display.max_colwidth', None):\n",
    "    print(df_reviews.head(5))  # Se observa que un mismo usuario puede tener varias recomendaciones en una misma fila    \n"
   ]
  },
  {
   "cell_type": "code",
   "execution_count": null,
   "metadata": {},
   "outputs": [],
   "source": [
    "# Vista preliminar de los datos\n",
    "#print(df_reviews.info())\n",
    "#print(df_items.info())\n",
    "print(df_games.shape)\n",
    "print(df_games.info())    # Se observan una gran cantidad de datos nulos\n"
   ]
  },
  {
   "cell_type": "code",
   "execution_count": 9,
   "metadata": {},
   "outputs": [
    {
     "name": "stdout",
     "output_type": "stream",
     "text": [
      "publisher       96362\n",
      "genres          91593\n",
      "app_name        88312\n",
      "title           90360\n",
      "url             88310\n",
      "release_date    90377\n",
      "tags            88473\n",
      "reviews_url     88312\n",
      "specs           88980\n",
      "price           89687\n",
      "early_access    88310\n",
      "id              88312\n",
      "developer       91609\n",
      "dtype: int64\n"
     ]
    }
   ],
   "source": [
    "print(df_games.isnull().sum())"
   ]
  },
  {
   "cell_type": "code",
   "execution_count": 10,
   "metadata": {},
   "outputs": [
    {
     "name": "stdout",
     "output_type": "stream",
     "text": [
      "publisher       8052\n",
      "genres          3283\n",
      "app_name           2\n",
      "title           2050\n",
      "url                0\n",
      "release_date    2067\n",
      "tags             163\n",
      "reviews_url        2\n",
      "specs            670\n",
      "price           1377\n",
      "early_access       0\n",
      "id                 2\n",
      "developer       3299\n",
      "dtype: int64\n"
     ]
    }
   ],
   "source": [
    "# Se eliminan las filas del dataframe que tienen todos sus valores nulos\n",
    "df_games = df_games.dropna(how='all')\n",
    "print(df_games.isnull().sum())"
   ]
  },
  {
   "cell_type": "markdown",
   "metadata": {},
   "source": [
    "### 2. ETL-REVIEWS"
   ]
  },
  {
   "cell_type": "code",
   "execution_count": 11,
   "metadata": {},
   "outputs": [],
   "source": [
    "# Se expandira el dataframe df_reviews para que quede una fila por cada recomendación \n",
    "# Y una columna por cada dato de la seria almacenada en la columna de 'review'\n",
    "\n",
    "expanded_rows = []\n",
    "for index, row in df_reviews.iterrows():\n",
    "    user_id  = row['user_id']\n",
    "    user_url = row['user_url']\n",
    "\n",
    "    review_list = row['reviews']\n",
    "\n",
    "    for it in review_list:\n",
    "        # se genera diccionario del nuevo df expandido\n",
    "        new_item = {    'user_id'  : user_id ,\n",
    "                        'user_url' : user_url,\n",
    "                        **it\n",
    "                    }\n",
    "        expanded_rows.append(new_item)\n",
    "\n",
    "df_reviews_exp = pd.DataFrame(expanded_rows)\n",
    "#df_reviews_exp.to_csv(r'./Datasets/reviews_exp.csv',index=False)"
   ]
  },
  {
   "cell_type": "code",
   "execution_count": 12,
   "metadata": {},
   "outputs": [
    {
     "name": "stdout",
     "output_type": "stream",
     "text": [
      "             user_id                                              user_url  \\\n",
      "0  76561197970982479  http://steamcommunity.com/profiles/76561197970982479   \n",
      "1  76561197970982479  http://steamcommunity.com/profiles/76561197970982479   \n",
      "2  76561197970982479  http://steamcommunity.com/profiles/76561197970982479   \n",
      "3            js41637                  http://steamcommunity.com/id/js41637   \n",
      "4            js41637                  http://steamcommunity.com/id/js41637   \n",
      "\n",
      "  funny                     posted last_edited item_id  \\\n",
      "0         Posted November 5, 2011.                1250   \n",
      "1            Posted July 15, 2011.               22200   \n",
      "2           Posted April 21, 2011.               43110   \n",
      "3            Posted June 24, 2014.              251610   \n",
      "4        Posted September 8, 2013.              227300   \n",
      "\n",
      "                                           helpful  recommend  \\\n",
      "0                                   No ratings yet       True   \n",
      "1                                   No ratings yet       True   \n",
      "2                                   No ratings yet       True   \n",
      "3  15 of 20 people (75%) found this review helpful       True   \n",
      "4     0 of 1 people (0%) found this review helpful       True   \n",
      "\n",
      "                                                                                                                                                                                                                                                                                                                                                                                                                                                                                                                                                                                                           review  \n",
      "0                                                                                                                                                                                                                                                                                                                                                       Simple yet with great replayability. In my opinion does \"zombie\" hordes and team work better than left 4 dead plus has a global leveling system. Alot of down to earth \"zombie\" splattering fun for the whole family. Amazed this sort of FPS is so rare.  \n",
      "1                                                                                                                                                                                                                                                                                                                                                                                                                                                                                                                                                                            It's unique and worth a playthrough.  \n",
      "2                                                                                                                                                                                                                                                                                                                                                                                                                          Great atmosphere. The gunplay can be a bit chunky at times but at the end of the day this game is definitely worth it and I hope they do a sequel...so buy the game so I get a sequel!  \n",
      "3                          I know what you think when you see this title \"Barbie Dreamhouse Party\" but do not be intimidated by it's title, this is easily one of my GOTYs. You don't get any of that cliche game mechanics that all the latest games have, this is simply good core gameplay. Yes, you can't 360 noscope your friends, but what you can do is show them up with your bad ♥♥♥ dance moves and put them to shame as you show them what true fashion and color combinations are.I know this game says for kids but, this is easily for any age range and any age will have a blast playing this.8/8  \n",
      "4  For a simple (it's actually not all that simple but it can be!) truck driving Simulator, it is quite a fun and relaxing game. Playing on simple (or easy?) its just the basic WASD keys for driving but (if you want) the game can be much harder and realistic with having to manually change gears, much harder turning, etc. And reversing in this game is a ♥♥♥♥♥, as I imagine it would be with an actual truck. Luckily, you don't have to reverse park it but you get extra points if you do cause it is bloody hard. But this is suprisingly a nice truck driving game and I had a bit of fun with it.  \n",
      "(59305, 9)\n"
     ]
    }
   ],
   "source": [
    "with pd.option_context('display.max_colwidth', None):\n",
    "    print(df_reviews_exp.head(5))      # Se observa una gran cantidad de datos nulos o vacios en columna 'last_edited' \n",
    "    #print(df_reviews_exp.tail(5))\n",
    "\n",
    "print(df_reviews_exp.shape)\n"
   ]
  },
  {
   "cell_type": "code",
   "execution_count": 13,
   "metadata": {},
   "outputs": [
    {
     "name": "stdout",
     "output_type": "stream",
     "text": [
      "last_edited\n",
      "                                  53165\n",
      "Last edited November 25, 2013.       99\n",
      "Last edited October 17, 2015.        19\n",
      "Last edited June 6, 2015.            18\n",
      "Last edited January 3.               17\n",
      "                                  ...  \n",
      "Last edited May 30, 2015.             1\n",
      "Last edited May 21, 2015.             1\n",
      "Last edited February 11, 2014.        1\n",
      "Last edited May 8, 2014.              1\n",
      "Last edited August 15, 2014.          1\n",
      "Name: count, Length: 1015, dtype: int64\n"
     ]
    }
   ],
   "source": [
    "print(df_reviews_exp['last_edited'].value_counts())\n"
   ]
  },
  {
   "cell_type": "code",
   "execution_count": 14,
   "metadata": {},
   "outputs": [
    {
     "name": "stdout",
     "output_type": "stream",
     "text": [
      "Porcentaje de valores vacios de la columna last_edited:  89.64674142146531\n"
     ]
    }
   ],
   "source": [
    "print('Porcentaje de valores vacios de la columna last_edited: ', 53165*100/df_reviews_exp.shape[0])"
   ]
  },
  {
   "cell_type": "code",
   "execution_count": null,
   "metadata": {},
   "outputs": [],
   "source": [
    "# Se elimina la columna 'last_edited'\n",
    "df_reviews_exp = df_reviews_exp.drop('last_edited', axis=1)\n",
    "# df_reviews_exp.columns"
   ]
  },
  {
   "cell_type": "code",
   "execution_count": null,
   "metadata": {},
   "outputs": [],
   "source": [
    "# Se eliminan las columnas que nos son utiles para nuestro estudio  \n",
    "df_reviews_exp.drop(['user_url', 'funny', 'helpful'], axis=1, inplace=True)\n",
    "df_reviews_exp.columns"
   ]
  },
  {
   "cell_type": "code",
   "execution_count": 19,
   "metadata": {},
   "outputs": [],
   "source": [
    "# Reemplazar valores vacíos, 'null' y 'None' con NaN en todo el DataFrame\n",
    "df_reviews_exp.replace(['', 'null', 'None'], np.nan, inplace=True)"
   ]
  },
  {
   "cell_type": "code",
   "execution_count": 20,
   "metadata": {},
   "outputs": [
    {
     "name": "stdout",
     "output_type": "stream",
     "text": [
      "874\n",
      "(58431, 5)\n"
     ]
    }
   ],
   "source": [
    "# Se verifican y se eliminan las filas duplicadas\n",
    "filas_dup = df_reviews_exp.duplicated().sum()\n",
    "print(filas_dup)\n",
    "df_reviews_exp.drop_duplicates(inplace=True)\n",
    "print(df_reviews_exp.shape)"
   ]
  },
  {
   "cell_type": "code",
   "execution_count": 21,
   "metadata": {},
   "outputs": [
    {
     "name": "stdout",
     "output_type": "stream",
     "text": [
      "posted\n",
      "2014-06-21    220\n",
      "2014-06-20    192\n",
      "2014-06-27    171\n",
      "2014-06-23    171\n",
      "2013-12-26    169\n",
      "             ... \n",
      "2011-03-25      1\n",
      "2011-11-16      1\n",
      "2011-05-28      1\n",
      "2012-02-01      1\n",
      "2012-11-03      1\n",
      "Name: count, Length: 1644, dtype: int64\n"
     ]
    }
   ],
   "source": [
    "# Se obtiene el año del review a partir de la columna 'posted'\n",
    "\n",
    "# Se convierte 'posted' a  tipo datetime\n",
    "df_reviews_exp['posted'] = pd.to_datetime(df_reviews_exp['posted'], format='Posted %B %d, %Y.', errors='coerce')\n",
    "\n",
    "print(df_reviews_exp['posted'].value_counts()) "
   ]
  },
  {
   "cell_type": "code",
   "execution_count": 22,
   "metadata": {},
   "outputs": [
    {
     "name": "stdout",
     "output_type": "stream",
     "text": [
      "year\n",
      "2014    21834\n",
      "2015    18154\n",
      "2013     6713\n",
      "2012     1201\n",
      "2011      530\n",
      "2010       66\n",
      "Name: count, dtype: Int64\n"
     ]
    }
   ],
   "source": [
    "# Crea la columna 'year' a partir de 'posted'\n",
    "df_reviews_exp['year'] = df_reviews_exp['posted'].dt.year.astype('Int64')\n",
    "\n",
    "print(df_reviews_exp['year'].value_counts()) \n"
   ]
  },
  {
   "cell_type": "code",
   "execution_count": 23,
   "metadata": {},
   "outputs": [
    {
     "name": "stdout",
     "output_type": "stream",
     "text": [
      "year\n",
      "2014    21834\n",
      "2015    18154\n",
      "2013     6713\n",
      "2012     1201\n",
      "2011      530\n",
      "2010       66\n",
      "Name: count, dtype: Int64\n",
      "9933 58431 16.999537916516918\n"
     ]
    }
   ],
   "source": [
    "print(df_reviews_exp['year'].value_counts()) \n",
    "\n",
    "var_nulos = (df_reviews_exp['year'].isnull().sum()) \n",
    "var_total = (df_reviews_exp.shape[0])\n",
    "percent_nulos = var_nulos/var_total\n",
    "\n",
    "print(var_nulos, var_total, percent_nulos*100)\n",
    "\n"
   ]
  },
  {
   "cell_type": "code",
   "execution_count": 24,
   "metadata": {},
   "outputs": [],
   "source": [
    "# Se ordena el DataFrame por 'item_id' y 'year' \n",
    "\n",
    "df_reviews_exp = df_reviews_exp.sort_values(['item_id', 'year'])"
   ]
  },
  {
   "cell_type": "code",
   "execution_count": 25,
   "metadata": {},
   "outputs": [
    {
     "data": {
      "text/html": [
       "<div>\n",
       "<style scoped>\n",
       "    .dataframe tbody tr th:only-of-type {\n",
       "        vertical-align: middle;\n",
       "    }\n",
       "\n",
       "    .dataframe tbody tr th {\n",
       "        vertical-align: top;\n",
       "    }\n",
       "\n",
       "    .dataframe thead th {\n",
       "        text-align: right;\n",
       "    }\n",
       "</style>\n",
       "<table border=\"1\" class=\"dataframe\">\n",
       "  <thead>\n",
       "    <tr style=\"text-align: right;\">\n",
       "      <th></th>\n",
       "      <th>user_id</th>\n",
       "      <th>item_id</th>\n",
       "      <th>recommend</th>\n",
       "      <th>review</th>\n",
       "      <th>year</th>\n",
       "    </tr>\n",
       "  </thead>\n",
       "  <tbody>\n",
       "    <tr>\n",
       "      <th>5331</th>\n",
       "      <td>76561198040188061</td>\n",
       "      <td>10</td>\n",
       "      <td>True</td>\n",
       "      <td>this game is the 1# online action game is awes...</td>\n",
       "      <td>2011</td>\n",
       "    </tr>\n",
       "    <tr>\n",
       "      <th>22702</th>\n",
       "      <td>maddoxx789</td>\n",
       "      <td>10</td>\n",
       "      <td>True</td>\n",
       "      <td>GYERTEK GAMELNI MINDENKI ITT VAN AKI SZÁMIT !!...</td>\n",
       "      <td>2012</td>\n",
       "    </tr>\n",
       "    <tr>\n",
       "      <th>35539</th>\n",
       "      <td>mixadance</td>\n",
       "      <td>10</td>\n",
       "      <td>True</td>\n",
       "      <td>:D</td>\n",
       "      <td>2012</td>\n",
       "    </tr>\n",
       "    <tr>\n",
       "      <th>43134</th>\n",
       "      <td>waspish</td>\n",
       "      <td>10</td>\n",
       "      <td>True</td>\n",
       "      <td>Good Game :D</td>\n",
       "      <td>2012</td>\n",
       "    </tr>\n",
       "    <tr>\n",
       "      <th>24137</th>\n",
       "      <td>76561198001699914</td>\n",
       "      <td>10</td>\n",
       "      <td>True</td>\n",
       "      <td>jueguenlooooooo</td>\n",
       "      <td>2013</td>\n",
       "    </tr>\n",
       "  </tbody>\n",
       "</table>\n",
       "</div>"
      ],
      "text/plain": [
       "                 user_id item_id  recommend  \\\n",
       "5331   76561198040188061      10       True   \n",
       "22702         maddoxx789      10       True   \n",
       "35539          mixadance      10       True   \n",
       "43134            waspish      10       True   \n",
       "24137  76561198001699914      10       True   \n",
       "\n",
       "                                                  review  year  \n",
       "5331   this game is the 1# online action game is awes...  2011  \n",
       "22702  GYERTEK GAMELNI MINDENKI ITT VAN AKI SZÁMIT !!...  2012  \n",
       "35539                                                 :D  2012  \n",
       "43134                                       Good Game :D  2012  \n",
       "24137                                    jueguenlooooooo  2013  "
      ]
     },
     "execution_count": 25,
     "metadata": {},
     "output_type": "execute_result"
    }
   ],
   "source": [
    "# Se elimina la columnas 'posted' que ya no es de utilidad\n",
    "df_reviews_exp.drop(['posted'], axis=1, inplace=True)\n",
    "df_reviews_exp.head()"
   ]
  },
  {
   "cell_type": "code",
   "execution_count": 26,
   "metadata": {},
   "outputs": [],
   "source": [
    "from langdetect import detect"
   ]
  },
  {
   "cell_type": "code",
   "execution_count": 27,
   "metadata": {},
   "outputs": [
    {
     "data": {
      "text/html": [
       "<div>\n",
       "<style scoped>\n",
       "    .dataframe tbody tr th:only-of-type {\n",
       "        vertical-align: middle;\n",
       "    }\n",
       "\n",
       "    .dataframe tbody tr th {\n",
       "        vertical-align: top;\n",
       "    }\n",
       "\n",
       "    .dataframe thead th {\n",
       "        text-align: right;\n",
       "    }\n",
       "</style>\n",
       "<table border=\"1\" class=\"dataframe\">\n",
       "  <thead>\n",
       "    <tr style=\"text-align: right;\">\n",
       "      <th></th>\n",
       "      <th>Conteo</th>\n",
       "      <th>Porcentaje</th>\n",
       "    </tr>\n",
       "    <tr>\n",
       "      <th>idioma</th>\n",
       "      <th></th>\n",
       "      <th></th>\n",
       "    </tr>\n",
       "  </thead>\n",
       "  <tbody>\n",
       "    <tr>\n",
       "      <th>en</th>\n",
       "      <td>45076</td>\n",
       "      <td>77.91%</td>\n",
       "    </tr>\n",
       "    <tr>\n",
       "      <th>pt</th>\n",
       "      <td>2156</td>\n",
       "      <td>3.73%</td>\n",
       "    </tr>\n",
       "    <tr>\n",
       "      <th>es</th>\n",
       "      <td>1257</td>\n",
       "      <td>2.17%</td>\n",
       "    </tr>\n",
       "    <tr>\n",
       "      <th>de</th>\n",
       "      <td>1136</td>\n",
       "      <td>1.96%</td>\n",
       "    </tr>\n",
       "    <tr>\n",
       "      <th>so</th>\n",
       "      <td>1000</td>\n",
       "      <td>1.73%</td>\n",
       "    </tr>\n",
       "  </tbody>\n",
       "</table>\n",
       "</div>"
      ],
      "text/plain": [
       "        Conteo Porcentaje\n",
       "idioma                   \n",
       "en       45076     77.91%\n",
       "pt        2156      3.73%\n",
       "es        1257      2.17%\n",
       "de        1136      1.96%\n",
       "so        1000      1.73%"
      ]
     },
     "execution_count": 27,
     "metadata": {},
     "output_type": "execute_result"
    }
   ],
   "source": [
    "# Determinar el lenguaje en el que fueron escritos los 'review'\n",
    "\n",
    "#df_reviews_exp['idioma'] = df_reviews_exp['review'].apply(lambda x: detect(str(x)) if pd.notna(x) else 'No detectado')\n",
    "\n",
    "\n",
    "def detectar_idioma(texto):\n",
    "    try:\n",
    "        return detect(texto)\n",
    "    except:\n",
    "        return None\n",
    "\n",
    "# Aplicar la función para detectar idioma y crear una nueva columna 'idioma'\n",
    "df_reviews_exp['idioma'] = df_reviews_exp['review'].apply(detectar_idioma)\n",
    "\n",
    "# Calcular el conteo y porcentaje de cada idioma\n",
    "conteo_por_idioma = df_reviews_exp['idioma'].value_counts()\n",
    "porcentaje_por_idioma = df_reviews_exp['idioma'].value_counts(normalize=True) * 100\n",
    "\n",
    "# Crear un nuevo DataFrame con el conteo y porcentaje\n",
    "resumen_idiomas = pd.DataFrame({\n",
    "    'Conteo': conteo_por_idioma,\n",
    "    'Porcentaje': porcentaje_por_idioma.round(2).astype(str) + '%'\n",
    "})\n",
    "\n",
    "# Ordenar el DataFrame por el conteo de mayor a menor\n",
    "resumen_idiomas = resumen_idiomas.sort_values(by='Conteo', ascending=False)\n",
    "resumen_idiomas.head()\n"
   ]
  },
  {
   "cell_type": "code",
   "execution_count": 28,
   "metadata": {},
   "outputs": [
    {
     "name": "stdout",
     "output_type": "stream",
     "text": [
      "idioma\n",
      "en    45076\n",
      "pt     2156\n",
      "es     1257\n",
      "de     1136\n",
      "so     1000\n",
      "Name: count, dtype: int64\n",
      "idioma\n",
      "en    45076\n",
      "Name: count, dtype: int64\n"
     ]
    }
   ],
   "source": [
    "# Para eliminar los review que no estan en Ingles 'en' y se almacenara en el dataframe df_reviews_en \n",
    "df_reviews_en = df_reviews_exp[df_reviews_exp['idioma']== 'en'].copy()\n",
    "\n",
    "print(df_reviews_exp['idioma'].value_counts()[0:5]) \n",
    "print(df_reviews_en['idioma'].value_counts()) \n"
   ]
  },
  {
   "cell_type": "code",
   "execution_count": 29,
   "metadata": {},
   "outputs": [
    {
     "name": "stdout",
     "output_type": "stream",
     "text": [
      "0\n"
     ]
    }
   ],
   "source": [
    "# Eliminar filas con valores nulos en 'review'\n",
    "var_nulos = (df_reviews_en['review'].isnull().sum()) \n",
    "print(var_nulos)\n",
    "df_reviews_en = df_reviews_en.dropna(subset=['review'])\n"
   ]
  },
  {
   "cell_type": "code",
   "execution_count": 30,
   "metadata": {},
   "outputs": [
    {
     "name": "stdout",
     "output_type": "stream",
     "text": [
      "<class 'pandas.core.frame.DataFrame'>\n",
      "Index: 45076 entries, 5331 to 32632\n",
      "Data columns (total 6 columns):\n",
      " #   Column     Non-Null Count  Dtype \n",
      "---  ------     --------------  ----- \n",
      " 0   user_id    45076 non-null  object\n",
      " 1   item_id    45076 non-null  object\n",
      " 2   recommend  45076 non-null  bool  \n",
      " 3   review     45076 non-null  object\n",
      " 4   year       37223 non-null  Int64 \n",
      " 5   idioma     45076 non-null  object\n",
      "dtypes: Int64(1), bool(1), object(4)\n",
      "memory usage: 2.1+ MB\n",
      "None\n"
     ]
    }
   ],
   "source": [
    "print(df_reviews_en.info())"
   ]
  },
  {
   "cell_type": "code",
   "execution_count": 31,
   "metadata": {},
   "outputs": [
    {
     "name": "stdout",
     "output_type": "stream",
     "text": [
      "7853\n"
     ]
    }
   ],
   "source": [
    "var_nulos = (df_reviews_en['year'].isnull().sum()) \n",
    "print(var_nulos)"
   ]
  },
  {
   "cell_type": "code",
   "execution_count": 32,
   "metadata": {},
   "outputs": [],
   "source": [
    "# Se Eliminan los valores que no tienen un año especifico \n",
    "df_reviews_en = df_reviews_en.dropna(subset=['year'])\n"
   ]
  },
  {
   "cell_type": "code",
   "execution_count": 33,
   "metadata": {},
   "outputs": [
    {
     "name": "stdout",
     "output_type": "stream",
     "text": [
      "<class 'pandas.core.frame.DataFrame'>\n",
      "Index: 37223 entries, 5331 to 32632\n",
      "Data columns (total 6 columns):\n",
      " #   Column     Non-Null Count  Dtype \n",
      "---  ------     --------------  ----- \n",
      " 0   user_id    37223 non-null  object\n",
      " 1   item_id    37223 non-null  object\n",
      " 2   recommend  37223 non-null  bool  \n",
      " 3   review     37223 non-null  object\n",
      " 4   year       37223 non-null  Int64 \n",
      " 5   idioma     37223 non-null  object\n",
      "dtypes: Int64(1), bool(1), object(4)\n",
      "memory usage: 1.8+ MB\n",
      "None\n"
     ]
    }
   ],
   "source": [
    "print(df_reviews_en.info())"
   ]
  },
  {
   "cell_type": "code",
   "execution_count": 34,
   "metadata": {},
   "outputs": [
    {
     "name": "stdout",
     "output_type": "stream",
     "text": [
      "<class 'pandas.core.frame.DataFrame'>\n",
      "Index: 37223 entries, 5331 to 32632\n",
      "Data columns (total 6 columns):\n",
      " #   Column     Non-Null Count  Dtype \n",
      "---  ------     --------------  ----- \n",
      " 0   user_id    37223 non-null  object\n",
      " 1   item_id    37223 non-null  int32 \n",
      " 2   recommend  37223 non-null  bool  \n",
      " 3   review     37223 non-null  object\n",
      " 4   year       37223 non-null  Int64 \n",
      " 5   idioma     37223 non-null  object\n",
      "dtypes: Int64(1), bool(1), int32(1), object(3)\n",
      "memory usage: 1.6+ MB\n",
      "None\n"
     ]
    }
   ],
   "source": [
    "# Convertir los datos de la columna 'item_id' a formato entero\n",
    "df_reviews_en['item_id'] = df_reviews_en['item_id'].astype(int) \n",
    "print(df_reviews_en.info())"
   ]
  },
  {
   "cell_type": "markdown",
   "metadata": {},
   "source": [
    "### 3. ETL-ITEMS"
   ]
  },
  {
   "cell_type": "code",
   "execution_count": 35,
   "metadata": {},
   "outputs": [
    {
     "name": "stdout",
     "output_type": "stream",
     "text": [
      "             user_id                                              user_url  \\\n",
      "0  76561197970982479  http://steamcommunity.com/profiles/76561197970982479   \n",
      "1  76561197970982479  http://steamcommunity.com/profiles/76561197970982479   \n",
      "2  76561197970982479  http://steamcommunity.com/profiles/76561197970982479   \n",
      "3  76561197970982479  http://steamcommunity.com/profiles/76561197970982479   \n",
      "4  76561197970982479  http://steamcommunity.com/profiles/76561197970982479   \n",
      "\n",
      "  item_id                  item_name  playtime_forever  playtime_2weeks  \n",
      "0      10             Counter-Strike                 6                0  \n",
      "1      20      Team Fortress Classic                 0                0  \n",
      "2      30              Day of Defeat                 7                0  \n",
      "3      40         Deathmatch Classic                 0                0  \n",
      "4      50  Half-Life: Opposing Force                 0                0  \n"
     ]
    }
   ],
   "source": [
    "# Se expandira el dataframe df_items para que quede una fila por cada recomendación \n",
    "# Y una columna por cada dato de la seria almacenada en la columna de 'items'\n",
    "\n",
    "expanded_rows = []\n",
    "for index, row in df_items.iterrows():\n",
    "    user_id  = row['user_id']\n",
    "    user_url = row['user_url']\n",
    "\n",
    "    items_list = row['items']\n",
    "\n",
    "    for it in items_list:\n",
    "        # se genera diccionario del nuevo df expandido\n",
    "        new_item = {    'user_id'  : user_id ,\n",
    "                        'user_url' : user_url,\n",
    "                        **it\n",
    "                    }\n",
    "        expanded_rows.append(new_item)\n",
    "\n",
    "df_items_exp = pd.DataFrame(expanded_rows)\n",
    "#df_items_exp.to_csv(r'./Datasets/items_exp.csv',index=False)\n",
    "\n",
    "with pd.option_context('display.max_colwidth', None):\n",
    "    print(df_items_exp.head(5))  "
   ]
  },
  {
   "cell_type": "code",
   "execution_count": 36,
   "metadata": {},
   "outputs": [
    {
     "data": {
      "text/plain": [
       "Index(['user_id', 'user_url', 'item_id', 'item_name', 'playtime_forever',\n",
       "       'playtime_2weeks'],\n",
       "      dtype='object')"
      ]
     },
     "execution_count": 36,
     "metadata": {},
     "output_type": "execute_result"
    }
   ],
   "source": [
    "df_items_exp.columns"
   ]
  },
  {
   "cell_type": "code",
   "execution_count": 37,
   "metadata": {},
   "outputs": [
    {
     "data": {
      "text/plain": [
       "Index(['user_id', 'item_id', 'item_name', 'playtime_forever'], dtype='object')"
      ]
     },
     "execution_count": 37,
     "metadata": {},
     "output_type": "execute_result"
    }
   ],
   "source": [
    "# Se eliminan las columnas que nos son utiles para nuestro estudio\n",
    "df_items_exp.drop(['user_url', 'playtime_2weeks'], axis=1, inplace=True)\n",
    "df_items_exp.columns\n"
   ]
  },
  {
   "cell_type": "code",
   "execution_count": 38,
   "metadata": {},
   "outputs": [
    {
     "data": {
      "text/html": [
       "<div>\n",
       "<style scoped>\n",
       "    .dataframe tbody tr th:only-of-type {\n",
       "        vertical-align: middle;\n",
       "    }\n",
       "\n",
       "    .dataframe tbody tr th {\n",
       "        vertical-align: top;\n",
       "    }\n",
       "\n",
       "    .dataframe thead th {\n",
       "        text-align: right;\n",
       "    }\n",
       "</style>\n",
       "<table border=\"1\" class=\"dataframe\">\n",
       "  <thead>\n",
       "    <tr style=\"text-align: right;\">\n",
       "      <th></th>\n",
       "      <th>user_id</th>\n",
       "      <th>item_id</th>\n",
       "      <th>item_name</th>\n",
       "      <th>playtime_forever</th>\n",
       "    </tr>\n",
       "  </thead>\n",
       "  <tbody>\n",
       "    <tr>\n",
       "      <th>0</th>\n",
       "      <td>76561197970982479</td>\n",
       "      <td>10</td>\n",
       "      <td>counter-strike</td>\n",
       "      <td>6</td>\n",
       "    </tr>\n",
       "    <tr>\n",
       "      <th>1</th>\n",
       "      <td>76561197970982479</td>\n",
       "      <td>20</td>\n",
       "      <td>team fortress classic</td>\n",
       "      <td>0</td>\n",
       "    </tr>\n",
       "    <tr>\n",
       "      <th>2</th>\n",
       "      <td>76561197970982479</td>\n",
       "      <td>30</td>\n",
       "      <td>day of defeat</td>\n",
       "      <td>7</td>\n",
       "    </tr>\n",
       "    <tr>\n",
       "      <th>3</th>\n",
       "      <td>76561197970982479</td>\n",
       "      <td>40</td>\n",
       "      <td>deathmatch classic</td>\n",
       "      <td>0</td>\n",
       "    </tr>\n",
       "    <tr>\n",
       "      <th>4</th>\n",
       "      <td>76561197970982479</td>\n",
       "      <td>50</td>\n",
       "      <td>half-life: opposing force</td>\n",
       "      <td>0</td>\n",
       "    </tr>\n",
       "  </tbody>\n",
       "</table>\n",
       "</div>"
      ],
      "text/plain": [
       "             user_id item_id                  item_name  playtime_forever\n",
       "0  76561197970982479      10             counter-strike                 6\n",
       "1  76561197970982479      20      team fortress classic                 0\n",
       "2  76561197970982479      30              day of defeat                 7\n",
       "3  76561197970982479      40         deathmatch classic                 0\n",
       "4  76561197970982479      50  half-life: opposing force                 0"
      ]
     },
     "execution_count": 38,
     "metadata": {},
     "output_type": "execute_result"
    }
   ],
   "source": [
    "# Convertir los datos de 'item_name' a minusculas\n",
    "df_items_exp['item_name'] = df_items_exp['item_name'].str.lower()\n",
    "df_items_exp.head()"
   ]
  },
  {
   "cell_type": "code",
   "execution_count": 39,
   "metadata": {},
   "outputs": [
    {
     "name": "stdout",
     "output_type": "stream",
     "text": [
      "59117\n",
      "(5153209, 4)\n",
      "(5094092, 4)\n"
     ]
    }
   ],
   "source": [
    "# Se eliminan las filas duplicadas\n",
    "filas_dup = df_items_exp.duplicated().sum()\n",
    "print(filas_dup)\n",
    "print(df_items_exp.shape)\n",
    "\n",
    "df_items_exp.drop_duplicates(inplace=True)\n",
    "print(df_items_exp.shape)"
   ]
  },
  {
   "cell_type": "code",
   "execution_count": null,
   "metadata": {},
   "outputs": [],
   "source": [
    "# Asumiendo que ya tienes un DataFrame llamado df y una columna llamada 'columna_de_interes'\n",
    "# z_scores = zscore(df_items['playtime_forever'])\n",
    "# df_items = df_items[(z_scores < 3) & (z_scores > -3)]  # Filtrar valores dentro de 3 desviaciones estándar\n",
    "\n",
    "# Convertir los datos de la columna 'item_id' a entero\n",
    "df_items['item_id'] = df_items['item_id'].astype(int)\n",
    "#df_items = df_items[df_items['playtime_forever'] != 0]"
   ]
  },
  {
   "cell_type": "markdown",
   "metadata": {},
   "source": [
    "### 4. ETL-GAMES"
   ]
  },
  {
   "cell_type": "code",
   "execution_count": 41,
   "metadata": {},
   "outputs": [
    {
     "name": "stdout",
     "output_type": "stream",
     "text": [
      "(32135, 13)\n",
      "<class 'pandas.core.frame.DataFrame'>\n",
      "Index: 32135 entries, 88310 to 120444\n",
      "Data columns (total 13 columns):\n",
      " #   Column        Non-Null Count  Dtype  \n",
      "---  ------        --------------  -----  \n",
      " 0   publisher     24083 non-null  object \n",
      " 1   genres        28852 non-null  object \n",
      " 2   app_name      32133 non-null  object \n",
      " 3   title         30085 non-null  object \n",
      " 4   url           32135 non-null  object \n",
      " 5   release_date  30068 non-null  object \n",
      " 6   tags          31972 non-null  object \n",
      " 7   reviews_url   32133 non-null  object \n",
      " 8   specs         31465 non-null  object \n",
      " 9   price         30758 non-null  object \n",
      " 10  early_access  32135 non-null  float64\n",
      " 11  id            32133 non-null  float64\n",
      " 12  developer     28836 non-null  object \n",
      "dtypes: float64(2), object(11)\n",
      "memory usage: 3.4+ MB\n",
      "None\n"
     ]
    }
   ],
   "source": [
    "print(df_games.shape)\n",
    "print(df_games.info())    # Se observan una gran cantidad de datos nulos\n",
    "\n"
   ]
  },
  {
   "cell_type": "code",
   "execution_count": 42,
   "metadata": {},
   "outputs": [
    {
     "name": "stdout",
     "output_type": "stream",
     "text": [
      "publisher       8052\n",
      "genres          3283\n",
      "app_name           2\n",
      "title           2050\n",
      "url                0\n",
      "release_date    2067\n",
      "tags             163\n",
      "reviews_url        2\n",
      "specs            670\n",
      "price           1377\n",
      "early_access       0\n",
      "id                 2\n",
      "developer       3299\n",
      "dtype: int64\n"
     ]
    }
   ],
   "source": [
    "print(df_games.isnull().sum())"
   ]
  },
  {
   "cell_type": "code",
   "execution_count": 43,
   "metadata": {},
   "outputs": [
    {
     "name": "stdout",
     "output_type": "stream",
     "text": [
      "publisher       8052\n",
      "genres          3283\n",
      "app_name           2\n",
      "title           2050\n",
      "url                0\n",
      "release_date    2067\n",
      "tags             163\n",
      "reviews_url        2\n",
      "specs            670\n",
      "price           1377\n",
      "early_access       0\n",
      "id                 2\n",
      "developer       3299\n",
      "dtype: int64\n"
     ]
    }
   ],
   "source": [
    "# Se eliminan las filas del dataframe que tienen todos sus valores nulos\n",
    "df_games = df_games.dropna(how='all')\n",
    "print(df_games.isnull().sum())"
   ]
  },
  {
   "cell_type": "code",
   "execution_count": 44,
   "metadata": {},
   "outputs": [
    {
     "name": "stdout",
     "output_type": "stream",
     "text": [
      "88310     False\n",
      "88311      True\n",
      "88312      True\n",
      "88313     False\n",
      "88314     False\n",
      "          ...  \n",
      "120440    False\n",
      "120441    False\n",
      "120442    False\n",
      "120443    False\n",
      "120444    False\n",
      "Name: price, Length: 32135, dtype: bool\n"
     ]
    }
   ],
   "source": [
    "# print(df_games['price'].value_counts())\n",
    "#prices = df_games[df_games['price'] == 'Free to play']\n",
    "#print(prices.info())\n",
    "\n",
    "#price_free = df_games['price'].str.contains('Free to play', case=False, na=False).sum()\n",
    "\n",
    "price_free = df_games['price'].str.contains('Free to play', case=False, na=False)\n",
    "print(price_free)"
   ]
  },
  {
   "cell_type": "code",
   "execution_count": 45,
   "metadata": {},
   "outputs": [
    {
     "name": "stdout",
     "output_type": "stream",
     "text": [
      "<class 'pandas.core.frame.DataFrame'>\n",
      "Index: 27596 entries, 88310 to 120443\n",
      "Data columns (total 13 columns):\n",
      " #   Column        Non-Null Count  Dtype  \n",
      "---  ------        --------------  -----  \n",
      " 0   publisher     22916 non-null  object \n",
      " 1   genres        27462 non-null  object \n",
      " 2   app_name      27596 non-null  object \n",
      " 3   title         27596 non-null  object \n",
      " 4   url           27596 non-null  object \n",
      " 5   release_date  27596 non-null  object \n",
      " 6   tags          27488 non-null  object \n",
      " 7   reviews_url   27596 non-null  object \n",
      " 8   specs         27316 non-null  object \n",
      " 9   price         27596 non-null  object \n",
      " 10  early_access  27596 non-null  float64\n",
      " 11  id            27596 non-null  float64\n",
      " 12  developer     27596 non-null  object \n",
      "dtypes: float64(2), object(11)\n",
      "memory usage: 2.9+ MB\n",
      "None\n"
     ]
    }
   ],
   "source": [
    "# Se eliminan las filas con datos nulos en las columans 'id', 'release_date', 'developer' y 'price'\n",
    "df_games = df_games.dropna(subset=['id', 'release_date', 'developer', 'price'])\n",
    "print(df_games.info())\n"
   ]
  },
  {
   "cell_type": "code",
   "execution_count": 46,
   "metadata": {},
   "outputs": [
    {
     "name": "stdout",
     "output_type": "stream",
     "text": [
      "842\n"
     ]
    }
   ],
   "source": [
    "\n",
    "price_free = df_games['price'].str.contains('Free to play', case=False, na=False).sum()\n",
    "print(price_free)"
   ]
  },
  {
   "cell_type": "code",
   "execution_count": 47,
   "metadata": {},
   "outputs": [
    {
     "name": "stdout",
     "output_type": "stream",
     "text": [
      "<class 'pandas.core.frame.DataFrame'>\n",
      "Index: 27596 entries, 88310 to 120443\n",
      "Data columns (total 13 columns):\n",
      " #   Column        Non-Null Count  Dtype  \n",
      "---  ------        --------------  -----  \n",
      " 0   publisher     22916 non-null  object \n",
      " 1   genres        27462 non-null  object \n",
      " 2   app_name      27596 non-null  object \n",
      " 3   title         27596 non-null  object \n",
      " 4   url           27596 non-null  object \n",
      " 5   release_date  27596 non-null  object \n",
      " 6   tags          27488 non-null  object \n",
      " 7   reviews_url   27596 non-null  object \n",
      " 8   specs         27316 non-null  object \n",
      " 9   price         27596 non-null  float64\n",
      " 10  early_access  27596 non-null  float64\n",
      " 11  id            27596 non-null  float64\n",
      " 12  developer     27596 non-null  object \n",
      "dtypes: float64(3), object(10)\n",
      "memory usage: 2.9+ MB\n",
      "None\n"
     ]
    }
   ],
   "source": [
    "# Convertir columna 'price' en numero/float y cambiar la cadena 'Free to play' por cero\n",
    "df_games['price'] = pd.to_numeric(df_games['price'], errors='coerce').fillna(0)\n",
    "df_games['price'] = df_games['price'].astype(float)\n",
    "\n",
    "print(df_games.info())"
   ]
  },
  {
   "cell_type": "code",
   "execution_count": 48,
   "metadata": {},
   "outputs": [
    {
     "name": "stdout",
     "output_type": "stream",
     "text": [
      "1544\n"
     ]
    }
   ],
   "source": [
    "valores_0 = df_games['price'].value_counts().get(0, 0)\n",
    "#valores_0 = df_games['price'].value_counts()\n",
    "print(valores_0)"
   ]
  },
  {
   "cell_type": "code",
   "execution_count": 49,
   "metadata": {},
   "outputs": [
    {
     "name": "stdout",
     "output_type": "stream",
     "text": [
      "                                publisher  \\\n",
      "88311                    Making Fun, Inc.   \n",
      "88312                        Poolians.com   \n",
      "88370        Unknown Worlds Entertainment   \n",
      "88501                Tripwire Interactive   \n",
      "88558                     Darklight Games   \n",
      "88575                         Digital Eel   \n",
      "88666                Tripwire Interactive   \n",
      "88679                   Octoshark Studios   \n",
      "88752                               Valve   \n",
      "88927                        Trion Worlds   \n",
      "88963              En Masse Entertainment   \n",
      "88964         Perfect World Entertainment   \n",
      "88965                                None   \n",
      "88969  Peter Brinson and Kurosh ValaNejad   \n",
      "89030                         Three Rings   \n",
      "89064     Days of Wonder, Asmodee Digital   \n",
      "89077               Daybreak Game Company   \n",
      "89105                      Reloaded Games   \n",
      "89152         Perfect World Entertainment   \n",
      "89176                          Deca Games   \n",
      "\n",
      "                                                  genres  \\\n",
      "88311               [Free to Play, Indie, RPG, Strategy]   \n",
      "88312  [Casual, Free to Play, Indie, Simulation, Sports]   \n",
      "88370                                    [Casual, Indie]   \n",
      "88501                                           [Action]   \n",
      "88558                               [Action, Simulation]   \n",
      "88575                                    [Casual, Indie]   \n",
      "88666                                           [Action]   \n",
      "88679                      [Action, Free to Play, Indie]   \n",
      "88752                                           [Action]   \n",
      "88927         [Free to Play, Massively Multiplayer, RPG]   \n",
      "88963                             [Action, Free to Play]   \n",
      "88964         [Free to Play, Massively Multiplayer, RPG]   \n",
      "88965  [Action, Adventure, Free to Play, Indie, Massi...   \n",
      "88969                                            [Indie]   \n",
      "89030  [Adventure, Casual, Free to Play, Massively Mu...   \n",
      "89064                     [Casual, Simulation, Strategy]   \n",
      "89077  [Action, Adventure, Free to Play, Massively Mu...   \n",
      "89105      [Action, Free to Play, Massively Multiplayer]   \n",
      "89152         [Free to Play, Massively Multiplayer, RPG]   \n",
      "89176  [Action, Free to Play, Indie, Massively Multip...   \n",
      "\n",
      "                                app_name                              title  \\\n",
      "88311                          Ironbound                          Ironbound   \n",
      "88312            Real Pool 3D - Poolians            Real Pool 3D - Poolians   \n",
      "88370                      Zen of Sudoku                      Zen of Sudoku   \n",
      "88501                       Mare Nostrum                       Mare Nostrum   \n",
      "88558       Darkest Hour: Europe '44-'45       Darkest Hour: Europe '44-'45   \n",
      "88575  BRAINPIPE: A Plunge to Unhumanity  BRAINPIPE: A Plunge to Unhumanity   \n",
      "88666                 Defence Alliance 2                 Defence Alliance 2   \n",
      "88679   Pirates, Vikings, and Knights II   Pirates, Vikings, and Knights II   \n",
      "88752                        Alien Swarm                        Alien Swarm   \n",
      "88927                               RIFT                               RIFT   \n",
      "88963   A.V.A. Alliance of Valiant Arms™   A.V.A. Alliance of Valiant Arms™   \n",
      "88964                   Champions Online                   Champions Online   \n",
      "88965                     Spiral Knights                     Spiral Knights   \n",
      "88969               The Cat and the Coup               The Cat and the Coup   \n",
      "89030                     Puzzle Pirates                     Puzzle Pirates   \n",
      "89064                  Memoir '44 Online                  Memoir '44 Online   \n",
      "89077                DC Universe™ Online                DC Universe™ Online   \n",
      "89105                       APB Reloaded                       APB Reloaded   \n",
      "89152                   Star Trek Online                   Star Trek Online   \n",
      "89176               Realm of the Mad God               Realm of the Mad God   \n",
      "\n",
      "                                                     url release_date  \\\n",
      "88311  http://store.steampowered.com/app/643980/Ironb...   2018-01-04   \n",
      "88312  http://store.steampowered.com/app/670290/Real_...   2017-07-24   \n",
      "88370  http://store.steampowered.com/app/4900/Zen_of_...   2006-12-14   \n",
      "88501  http://store.steampowered.com/app/1230/Mare_No...   2008-10-17   \n",
      "88558  http://store.steampowered.com/app/1280/Darkest...   2009-06-09   \n",
      "88575  http://store.steampowered.com/app/35800/BRAINP...   2008-12-24   \n",
      "88666  http://store.steampowered.com/app/35420/Defenc...   2009-10-22   \n",
      "88679  http://store.steampowered.com/app/17570/Pirate...   2010-02-12   \n",
      "88752  http://store.steampowered.com/app/630/Alien_Sw...   2010-07-19   \n",
      "88927      http://store.steampowered.com/app/39120/RIFT/   2013-10-24   \n",
      "88963  http://store.steampowered.com/app/102700/AVA_A...   2011-06-14   \n",
      "88964  http://store.steampowered.com/app/9880/Champio...   2009-09-01   \n",
      "88965  http://store.steampowered.com/app/99900/Spiral...   2011-06-14   \n",
      "88969  http://store.steampowered.com/app/95700/The_Ca...   2011-06-15   \n",
      "89030  http://store.steampowered.com/app/99910/Puzzle...   2011-08-31   \n",
      "89064  http://store.steampowered.com/app/108210/Memoi...   2011-10-12   \n",
      "89077  http://store.steampowered.com/app/24200/DC_Uni...   2011-11-02   \n",
      "89105  http://store.steampowered.com/app/113400/APB_R...   2011-12-06   \n",
      "89152  http://store.steampowered.com/app/9900/Star_Tr...   2010-02-02   \n",
      "89176  http://store.steampowered.com/app/200210/Realm...   2012-02-20   \n",
      "\n",
      "                                                    tags  \\\n",
      "88311  [Free to Play, Strategy, Indie, RPG, Card Game...   \n",
      "88312  [Free to Play, Simulation, Sports, Casual, Ind...   \n",
      "88370                            [Casual, Indie, Puzzle]   \n",
      "88501  [Action, World War II, FPS, Mod, Multiplayer, ...   \n",
      "88558  [World War II, FPS, Action, Shooter, Simulatio...   \n",
      "88575                       [Casual, Indie, Psychedelic]   \n",
      "88666                    [Mod, Action, FPS, Multiplayer]   \n",
      "88679  [Free to Play, Action, Multiplayer, Pirates, M...   \n",
      "88752  [Free to Play, Co-op, Action, Multiplayer, Onl...   \n",
      "88927  [Free to Play, MMORPG, Massively Multiplayer, ...   \n",
      "88963  [Free to Play, FPS, Action, Multiplayer, Shoot...   \n",
      "88964  [Free to Play, Superhero, Massively Multiplaye...   \n",
      "88965  [Free to Play, Massively Multiplayer, Adventur...   \n",
      "88969  [Indie, Historical, Free to Play, Puzzle, Shor...   \n",
      "89030  [Free to Play, Massively Multiplayer, Puzzle, ...   \n",
      "89064  [Strategy, Board Game, Casual, Simulation, Wor...   \n",
      "89077  [Free to Play, Superhero, Massively Multiplaye...   \n",
      "89105  [Free to Play, Open World, Action, Character C...   \n",
      "89152  [Free to Play, Massively Multiplayer, Sci-fi, ...   \n",
      "89176  [Free to Play, Massively Multiplayer, Pixel Gr...   \n",
      "\n",
      "                                             reviews_url  \\\n",
      "88311  http://steamcommunity.com/app/643980/reviews/?...   \n",
      "88312  http://steamcommunity.com/app/670290/reviews/?...   \n",
      "88370  http://steamcommunity.com/app/4900/reviews/?br...   \n",
      "88501  http://steamcommunity.com/app/1230/reviews/?br...   \n",
      "88558  http://steamcommunity.com/app/1280/reviews/?br...   \n",
      "88575  http://steamcommunity.com/app/35800/reviews/?b...   \n",
      "88666  http://steamcommunity.com/app/35420/reviews/?b...   \n",
      "88679  http://steamcommunity.com/app/17570/reviews/?b...   \n",
      "88752  http://steamcommunity.com/app/630/reviews/?bro...   \n",
      "88927  http://steamcommunity.com/app/39120/reviews/?b...   \n",
      "88963  http://steamcommunity.com/app/102700/reviews/?...   \n",
      "88964  http://steamcommunity.com/app/9880/reviews/?br...   \n",
      "88965  http://steamcommunity.com/app/99900/reviews/?b...   \n",
      "88969  http://steamcommunity.com/app/95700/reviews/?b...   \n",
      "89030  http://steamcommunity.com/app/99910/reviews/?b...   \n",
      "89064  http://steamcommunity.com/app/108210/reviews/?...   \n",
      "89077  http://steamcommunity.com/app/24200/reviews/?b...   \n",
      "89105  http://steamcommunity.com/app/113400/reviews/?...   \n",
      "89152  http://steamcommunity.com/app/9900/reviews/?br...   \n",
      "89176  http://steamcommunity.com/app/200210/reviews/?...   \n",
      "\n",
      "                                                   specs  price  early_access  \\\n",
      "88311  [Single-player, Multi-player, Online Multi-Pla...    0.0           0.0   \n",
      "88312  [Single-player, Multi-player, Online Multi-Pla...    0.0           0.0   \n",
      "88370                                    [Single-player]    0.0           0.0   \n",
      "88501           [Multi-player, Mods, Steam Achievements]    0.0           0.0   \n",
      "88558  [Multi-player, Mods, Partial Controller Suppor...    0.0           0.0   \n",
      "88575        [Single-player, Partial Controller Support]    0.0           0.0   \n",
      "88666         [Single-player, Multi-player, Co-op, Mods]    0.0           0.0   \n",
      "88679  [Multi-player, Online Multi-Player, Cross-Plat...    0.0           0.0   \n",
      "88752  [Single-player, Multi-player, Co-op, Steam Ach...    0.0           0.0   \n",
      "88927  [Multi-player, Online Multi-Player, MMO, Co-op...    0.0           0.0   \n",
      "88963  [Multi-player, Online Multi-Player, Co-op, Onl...    0.0           0.0   \n",
      "88964     [Multi-player, MMO, Co-op, Steam Achievements]    0.0           0.0   \n",
      "88965  [Single-player, Multi-player, MMO, Co-op, Stea...    0.0           0.0   \n",
      "88969                                    [Single-player]    0.0           0.0   \n",
      "89030  [Single-player, Multi-player, MMO, Co-op, Stea...    0.0           0.0   \n",
      "89064  [Single-player, Multi-player, Steam Achievements]    0.0           0.0   \n",
      "89077  [Multi-player, MMO, Steam Achievements, Full c...    0.0           0.0   \n",
      "89105            [Multi-player, MMO, Steam Achievements]    0.0           0.0   \n",
      "89152  [Multi-player, MMO, Co-op, Steam Achievements,...    0.0           0.0   \n",
      "89176  [Multi-player, MMO, Co-op, Cross-Platform Mult...    0.0           0.0   \n",
      "\n",
      "             id                           developer  \n",
      "88311  643980.0                    Secret Level SRL  \n",
      "88312  670290.0                        Poolians.com  \n",
      "88370    4900.0        Unknown Worlds Entertainment  \n",
      "88501    1230.0               Sandstorm Productions  \n",
      "88558    1280.0                     Darklight Games  \n",
      "88575   35800.0                         Digital Eel  \n",
      "88666   35420.0               Defence Alliance Team  \n",
      "88679   17570.0                   Octoshark Studios  \n",
      "88752     630.0                               Valve  \n",
      "88927   39120.0                        Trion Worlds  \n",
      "88963  102700.0                       Red Duck Inc.  \n",
      "88964    9880.0                     Cryptic Studios  \n",
      "88965   99900.0                         Grey Havens  \n",
      "88969   95700.0  Peter Brinson and Kurosh ValaNejad  \n",
      "89030   99910.0                         Three Rings  \n",
      "89064  108210.0                      Days of Wonder  \n",
      "89077   24200.0               Daybreak Game Company  \n",
      "89105  113400.0                Reloaded Productions  \n",
      "89152    9900.0                     Cryptic Studios  \n",
      "89176  200210.0                 Wild Shadow Studios  \n"
     ]
    }
   ],
   "source": [
    "df_games_free = df_games[df_games['price'] == 0]\n",
    "print(df_games_free.head(20))"
   ]
  },
  {
   "cell_type": "code",
   "execution_count": 50,
   "metadata": {},
   "outputs": [
    {
     "name": "stdout",
     "output_type": "stream",
     "text": [
      "<class 'pandas.core.frame.DataFrame'>\n",
      "Index: 27596 entries, 88310 to 120443\n",
      "Data columns (total 13 columns):\n",
      " #   Column        Non-Null Count  Dtype  \n",
      "---  ------        --------------  -----  \n",
      " 0   publisher     22916 non-null  object \n",
      " 1   genres        27462 non-null  object \n",
      " 2   app_name      27596 non-null  object \n",
      " 3   title         27596 non-null  object \n",
      " 4   url           27596 non-null  object \n",
      " 5   release_date  27596 non-null  object \n",
      " 6   tags          27488 non-null  object \n",
      " 7   reviews_url   27596 non-null  object \n",
      " 8   specs         27316 non-null  object \n",
      " 9   price         27596 non-null  float64\n",
      " 10  early_access  27596 non-null  float64\n",
      " 11  item_id       27596 non-null  int32  \n",
      " 12  developer     27596 non-null  object \n",
      "dtypes: float64(2), int32(1), object(10)\n",
      "memory usage: 2.8+ MB\n",
      "None\n"
     ]
    }
   ],
   "source": [
    "# Cambiar el nombre de la columna \"id\" por \"item_id\" y convertir a enteros\n",
    "df_games = df_games.rename(columns={'id': 'item_id'})\n",
    "df_games['item_id'] = df_games['item_id'].astype(int) \n",
    "\n",
    "print(df_games.info())"
   ]
  },
  {
   "cell_type": "code",
   "execution_count": 51,
   "metadata": {},
   "outputs": [],
   "source": [
    "df_games['developer'] = df_games['developer'].astype(str).str.lower()"
   ]
  },
  {
   "cell_type": "code",
   "execution_count": 52,
   "metadata": {},
   "outputs": [],
   "source": [
    "# Se obtiene el año del release_date requerido para el análisis\n",
    "df_games['release_date'] = pd.to_datetime(df_games['release_date'], errors='coerce')\n",
    "df_games['year'] = df_games['release_date'].dt.year"
   ]
  },
  {
   "cell_type": "markdown",
   "metadata": {},
   "source": [
    "### 5. ANALISIS DE SENTIMIENTO"
   ]
  },
  {
   "cell_type": "code",
   "execution_count": 53,
   "metadata": {},
   "outputs": [
    {
     "name": "stderr",
     "output_type": "stream",
     "text": [
      "[nltk_data] Downloading package vader_lexicon to C:\\Users\\Diego\n",
      "[nltk_data]     Osorio\\AppData\\Roaming\\nltk_data...\n",
      "[nltk_data]   Package vader_lexicon is already up-to-date!\n"
     ]
    }
   ],
   "source": [
    "# Analisis de sentimientos\n",
    "import nltk\n",
    "from nltk.sentiment.vader import SentimentIntensityAnalyzer\n",
    "\n",
    "# Descargar el lexicon necesario para el análisis de sentimientos\n",
    "nltk.download('vader_lexicon')\n",
    "\n",
    "# Crear una instancia del analizador de sentimientos\n",
    "sia = SentimentIntensityAnalyzer()\n",
    "\n",
    "# Convertimos la columna 'review' en tipo string para aplicar nuestro modelo de analisis de sentimiento\n",
    "df_reviews_en['review'] = df_reviews_en['review'].astype(str)\n",
    "\n",
    "# Calcula el puntaje de sentimiento para cada reseña y agrega al df una nueva columna \"sentimiento\"\n",
    "df_reviews_en['sentimiento'] = df_reviews_en['review'].apply(lambda x: sia.polarity_scores(x)['compound'])\n",
    "\n",
    "# Definimos umbrales para clasificar las reseñas en positivas, neutrales y negativas\n",
    "umbral_positivo = 0.3\n",
    "umbral_negativo = -0.3\n",
    "\n",
    "# Crea una nueva columna \"sentimiento_etiqueta\" para clasificar en positivo, neutral y negativo\n",
    "df_reviews_en['sentimiento_etiqueta'] = df_reviews_en['sentimiento'].apply(lambda x: 2 if x > umbral_positivo else (0 if x < umbral_negativo else 1))\n",
    "\n"
   ]
  },
  {
   "cell_type": "code",
   "execution_count": 54,
   "metadata": {},
   "outputs": [
    {
     "data": {
      "text/html": [
       "<div>\n",
       "<style scoped>\n",
       "    .dataframe tbody tr th:only-of-type {\n",
       "        vertical-align: middle;\n",
       "    }\n",
       "\n",
       "    .dataframe tbody tr th {\n",
       "        vertical-align: top;\n",
       "    }\n",
       "\n",
       "    .dataframe thead th {\n",
       "        text-align: right;\n",
       "    }\n",
       "</style>\n",
       "<table border=\"1\" class=\"dataframe\">\n",
       "  <thead>\n",
       "    <tr style=\"text-align: right;\">\n",
       "      <th></th>\n",
       "      <th>user_id</th>\n",
       "      <th>item_id</th>\n",
       "      <th>recommend</th>\n",
       "      <th>review</th>\n",
       "      <th>year</th>\n",
       "      <th>idioma</th>\n",
       "      <th>sentimiento</th>\n",
       "      <th>sentimiento_etiqueta</th>\n",
       "    </tr>\n",
       "  </thead>\n",
       "  <tbody>\n",
       "    <tr>\n",
       "      <th>5331</th>\n",
       "      <td>76561198040188061</td>\n",
       "      <td>10</td>\n",
       "      <td>True</td>\n",
       "      <td>this game is the 1# online action game is awes...</td>\n",
       "      <td>2011</td>\n",
       "      <td>en</td>\n",
       "      <td>0.7906</td>\n",
       "      <td>2</td>\n",
       "    </tr>\n",
       "    <tr>\n",
       "      <th>45506</th>\n",
       "      <td>epic_doom</td>\n",
       "      <td>10</td>\n",
       "      <td>True</td>\n",
       "      <td>The OG to CS:GO.</td>\n",
       "      <td>2013</td>\n",
       "      <td>en</td>\n",
       "      <td>0.0000</td>\n",
       "      <td>1</td>\n",
       "    </tr>\n",
       "    <tr>\n",
       "      <th>7801</th>\n",
       "      <td>mayshowganmore</td>\n",
       "      <td>10</td>\n",
       "      <td>True</td>\n",
       "      <td>THE BEST FPS GAME!!!!!</td>\n",
       "      <td>2014</td>\n",
       "      <td>en</td>\n",
       "      <td>0.7482</td>\n",
       "      <td>2</td>\n",
       "    </tr>\n",
       "    <tr>\n",
       "      <th>7967</th>\n",
       "      <td>BestinTheWorldThund3r</td>\n",
       "      <td>10</td>\n",
       "      <td>True</td>\n",
       "      <td>One of the best childhood games i have ever pl...</td>\n",
       "      <td>2014</td>\n",
       "      <td>en</td>\n",
       "      <td>0.8011</td>\n",
       "      <td>2</td>\n",
       "    </tr>\n",
       "  </tbody>\n",
       "</table>\n",
       "</div>"
      ],
      "text/plain": [
       "                     user_id  item_id  recommend  \\\n",
       "5331       76561198040188061       10       True   \n",
       "45506              epic_doom       10       True   \n",
       "7801          mayshowganmore       10       True   \n",
       "7967   BestinTheWorldThund3r       10       True   \n",
       "\n",
       "                                                  review  year idioma  \\\n",
       "5331   this game is the 1# online action game is awes...  2011     en   \n",
       "45506                                   The OG to CS:GO.  2013     en   \n",
       "7801                              THE BEST FPS GAME!!!!!  2014     en   \n",
       "7967   One of the best childhood games i have ever pl...  2014     en   \n",
       "\n",
       "       sentimiento  sentimiento_etiqueta  \n",
       "5331        0.7906                     2  \n",
       "45506       0.0000                     1  \n",
       "7801        0.7482                     2  \n",
       "7967        0.8011                     2  "
      ]
     },
     "execution_count": 54,
     "metadata": {},
     "output_type": "execute_result"
    }
   ],
   "source": [
    "df_reviews_en.head(4)"
   ]
  },
  {
   "cell_type": "code",
   "execution_count": 55,
   "metadata": {},
   "outputs": [
    {
     "name": "stdout",
     "output_type": "stream",
     "text": [
      "sentimiento_etiqueta\n",
      "2    24577\n",
      "1     7664\n",
      "0     4982\n",
      "Name: count, dtype: int64\n"
     ]
    }
   ],
   "source": [
    "print(df_reviews_en['sentimiento_etiqueta'].value_counts())"
   ]
  },
  {
   "cell_type": "markdown",
   "metadata": {},
   "source": [
    "## FUNCIONES PARA LA API"
   ]
  },
  {
   "cell_type": "markdown",
   "metadata": {},
   "source": [
    "### 5. developer_reviews_analysis( desarrolladora : str ): \n",
    "\n",
    "Según el desarrollador, se devuelve un diccionario con el nombre del desarrollador como llave y una lista con la cantidad total de registros de reseñas de usuarios que se encuentren categorizados con un análisis de sentimiento como valor positivo o negativo.\n",
    "\n",
    "Ejemplo de retorno: {'Valve' : [Negative = 182, Positive = 278]}"
   ]
  },
  {
   "cell_type": "code",
   "execution_count": 56,
   "metadata": {},
   "outputs": [],
   "source": [
    "# creamos 2 dataframes solo con las columnas requeridas y hacemos un inner join\n",
    "df_games_API5 = df_games[['item_id', 'developer']]\n",
    "df_reviews_API5 = df_reviews_en[['item_id', 'sentimiento_etiqueta']]\n",
    "\n",
    "df_API5 = pd.merge(df_games_API5, df_reviews_API5, on = \"item_id\", how = \"inner\")"
   ]
  },
  {
   "cell_type": "code",
   "execution_count": 57,
   "metadata": {},
   "outputs": [
    {
     "name": "stdout",
     "output_type": "stream",
     "text": [
      "sentimiento_etiqueta                    0   1   2\n",
      "developer                                        \n",
      "07th expansion                          1   1   0\n",
      "10th art studio,adventure productions   0   0   1\n",
      "11 bit studios                         17  10  13\n",
      "14° east                                1   0   1\n",
      "17-bit                                  0   0   1\n",
      "...                                    ..  ..  ..\n",
      "zombie studios                          1   1   1\n",
      "zootfly                                 0   0   2\n",
      "zoë mode                                0   1   1\n",
      "zykov eddy,xitilon                      0   1   1\n",
      "高考恋爱委员会,橘子班                             0   0   1\n",
      "\n",
      "[1569 rows x 3 columns]\n"
     ]
    }
   ],
   "source": [
    "# Agrupamos por developer y sentimiento, contamos los coincidentes, y ordenamos por  columnas el resultado\n",
    "df_API5 = df_API5.groupby(['developer', 'sentimiento_etiqueta']).size().unstack(fill_value=0)\n",
    "print(df_API5)"
   ]
  },
  {
   "cell_type": "code",
   "execution_count": 58,
   "metadata": {},
   "outputs": [
    {
     "name": "stdout",
     "output_type": "stream",
     "text": [
      "sentimiento_etiqueta                              developer   0   1   2\n",
      "0                                            07th expansion   1   1   0\n",
      "1                     10th art studio,adventure productions   0   0   1\n",
      "2                                            11 bit studios  17  10  13\n",
      "3                                                  14° east   1   0   1\n",
      "4                                                    17-bit   0   0   1\n",
      "...                                                     ...  ..  ..  ..\n",
      "1564                                         zombie studios   1   1   1\n",
      "1565                                                zootfly   0   0   2\n",
      "1566                                               zoë mode   0   1   1\n",
      "1567                                     zykov eddy,xitilon   0   1   1\n",
      "1568                                            高考恋爱委员会,橘子班   0   0   1\n",
      "\n",
      "[1569 rows x 4 columns]\n"
     ]
    }
   ],
   "source": [
    "# Agregamos indices al nuevo dataframe y mantenemos la columna developer\n",
    "df_API5 = df_API5 .reset_index(drop = False)\n",
    "print(df_API5)"
   ]
  },
  {
   "cell_type": "code",
   "execution_count": 59,
   "metadata": {},
   "outputs": [
    {
     "name": "stdout",
     "output_type": "stream",
     "text": [
      "                               Developer  Negativo  Neutro  Positivo\n",
      "0                         07th expansion         1       1         0\n",
      "1  10th art studio,adventure productions         0       0         1\n",
      "2                         11 bit studios        17      10        13\n",
      "3                               14° east         1       0         1\n",
      "4                                 17-bit         0       0         1\n"
     ]
    }
   ],
   "source": [
    "# Damos nombres apropiados a las columnas\n",
    "nombre_columns = [\"Developer\",'Negativo', 'Neutro',\"Positivo\"]\n",
    "df_API5.columns = nombre_columns\n",
    "\n",
    "# Damos formato de lowercase a columna de developer\n",
    "df_API5['Developer'] = df_API5['Developer'].astype(str).str.lower()\n",
    "\n",
    "print(df_API5.head())"
   ]
  },
  {
   "cell_type": "code",
   "execution_count": 60,
   "metadata": {},
   "outputs": [],
   "source": [
    "#df_API5.to_parquet(\"df_API5.parquet\", index=False )"
   ]
  },
  {
   "cell_type": "code",
   "execution_count": 62,
   "metadata": {},
   "outputs": [
    {
     "data": {
      "text/plain": [
       "{'tobyfox': ['Negativo = 18', 'Positivo = 67']}"
      ]
     },
     "execution_count": 62,
     "metadata": {},
     "output_type": "execute_result"
    }
   ],
   "source": [
    "# Funcion que dando como entrada el nombre de un Developer arroja el total de reviews Negativos y Posivitos dados\n",
    "def developer_reviews(desarrollador):\n",
    "    \n",
    "    desarrollador=desarrollador.lower()    # aseguramos lowercase para la entrada dada por el usuario\n",
    "\n",
    "    # Filtramos para obtener solo la fila del Developer ingresado por el usuario\n",
    "    fila_desarrollador = df_API5[df_API5['Developer'] == desarrollador]\n",
    "\n",
    "    review_negativo = fila_desarrollador['Negativo'].values[0]\n",
    "    review_positivo = fila_desarrollador['Positivo'].values[0]\n",
    "\n",
    "    # Crea el diccionario para mostrar el resultado solicitado\n",
    "    result = {\n",
    "        desarrollador: {\n",
    "            'Negativo': review_negativo,\n",
    "            'Positivo': review_positivo\n",
    "        }\n",
    "    }\n",
    "\n",
    "    # Para presentar el resultado en el formato solicitado\n",
    "    result = {clave: [f\"{subclave} = {valor}\" for subclave, valor in subdiccionario.items()] for clave, subdiccionario in result.items()}\n",
    "\n",
    "    return result\n",
    "\n",
    "# Llamada a la funcion\n",
    "developer_reviews('tobyfox')"
   ]
  },
  {
   "cell_type": "code",
   "execution_count": 63,
   "metadata": {},
   "outputs": [],
   "source": [
    "df_API5.to_parquet(\"df_game_review_API5.parquet\", index=False )"
   ]
  },
  {
   "cell_type": "markdown",
   "metadata": {},
   "source": [
    "### 4. best_developer_year( año : int ): \n",
    "Devuelve el top 3 de desarrolladores con juegos MÁS recomendados por usuarios para el año dado. (reviews.recommend = True y comentarios positivos)\n",
    "\n",
    "Ejemplo de retorno: [{\"Puesto 1\" : X}, {\"Puesto 2\" : Y},{\"Puesto 3\" : Z}]"
   ]
  },
  {
   "cell_type": "code",
   "execution_count": 64,
   "metadata": {},
   "outputs": [
    {
     "data": {
      "text/html": [
       "<div>\n",
       "<style scoped>\n",
       "    .dataframe tbody tr th:only-of-type {\n",
       "        vertical-align: middle;\n",
       "    }\n",
       "\n",
       "    .dataframe tbody tr th {\n",
       "        vertical-align: top;\n",
       "    }\n",
       "\n",
       "    .dataframe thead th {\n",
       "        text-align: right;\n",
       "    }\n",
       "</style>\n",
       "<table border=\"1\" class=\"dataframe\">\n",
       "  <thead>\n",
       "    <tr style=\"text-align: right;\">\n",
       "      <th></th>\n",
       "      <th>user_id</th>\n",
       "      <th>item_id</th>\n",
       "      <th>recommend</th>\n",
       "      <th>review</th>\n",
       "      <th>year</th>\n",
       "      <th>idioma</th>\n",
       "      <th>sentimiento</th>\n",
       "      <th>sentimiento_etiqueta</th>\n",
       "    </tr>\n",
       "  </thead>\n",
       "  <tbody>\n",
       "    <tr>\n",
       "      <th>5331</th>\n",
       "      <td>76561198040188061</td>\n",
       "      <td>10</td>\n",
       "      <td>True</td>\n",
       "      <td>this game is the 1# online action game is awes...</td>\n",
       "      <td>2011</td>\n",
       "      <td>en</td>\n",
       "      <td>0.7906</td>\n",
       "      <td>2</td>\n",
       "    </tr>\n",
       "    <tr>\n",
       "      <th>45506</th>\n",
       "      <td>epic_doom</td>\n",
       "      <td>10</td>\n",
       "      <td>True</td>\n",
       "      <td>The OG to CS:GO.</td>\n",
       "      <td>2013</td>\n",
       "      <td>en</td>\n",
       "      <td>0.0000</td>\n",
       "      <td>1</td>\n",
       "    </tr>\n",
       "    <tr>\n",
       "      <th>7801</th>\n",
       "      <td>mayshowganmore</td>\n",
       "      <td>10</td>\n",
       "      <td>True</td>\n",
       "      <td>THE BEST FPS GAME!!!!!</td>\n",
       "      <td>2014</td>\n",
       "      <td>en</td>\n",
       "      <td>0.7482</td>\n",
       "      <td>2</td>\n",
       "    </tr>\n",
       "    <tr>\n",
       "      <th>7967</th>\n",
       "      <td>BestinTheWorldThund3r</td>\n",
       "      <td>10</td>\n",
       "      <td>True</td>\n",
       "      <td>One of the best childhood games i have ever pl...</td>\n",
       "      <td>2014</td>\n",
       "      <td>en</td>\n",
       "      <td>0.8011</td>\n",
       "      <td>2</td>\n",
       "    </tr>\n",
       "    <tr>\n",
       "      <th>8519</th>\n",
       "      <td>76561198072207162</td>\n",
       "      <td>10</td>\n",
       "      <td>True</td>\n",
       "      <td>People still play this! Siq game</td>\n",
       "      <td>2014</td>\n",
       "      <td>en</td>\n",
       "      <td>0.4003</td>\n",
       "      <td>2</td>\n",
       "    </tr>\n",
       "  </tbody>\n",
       "</table>\n",
       "</div>"
      ],
      "text/plain": [
       "                     user_id  item_id  recommend  \\\n",
       "5331       76561198040188061       10       True   \n",
       "45506              epic_doom       10       True   \n",
       "7801          mayshowganmore       10       True   \n",
       "7967   BestinTheWorldThund3r       10       True   \n",
       "8519       76561198072207162       10       True   \n",
       "\n",
       "                                                  review  year idioma  \\\n",
       "5331   this game is the 1# online action game is awes...  2011     en   \n",
       "45506                                   The OG to CS:GO.  2013     en   \n",
       "7801                              THE BEST FPS GAME!!!!!  2014     en   \n",
       "7967   One of the best childhood games i have ever pl...  2014     en   \n",
       "8519                    People still play this! Siq game  2014     en   \n",
       "\n",
       "       sentimiento  sentimiento_etiqueta  \n",
       "5331        0.7906                     2  \n",
       "45506       0.0000                     1  \n",
       "7801        0.7482                     2  \n",
       "7967        0.8011                     2  \n",
       "8519        0.4003                     2  "
      ]
     },
     "execution_count": 64,
     "metadata": {},
     "output_type": "execute_result"
    }
   ],
   "source": [
    "df_reviews_en.head(5)"
   ]
  },
  {
   "cell_type": "code",
   "execution_count": 65,
   "metadata": {},
   "outputs": [
    {
     "name": "stdout",
     "output_type": "stream",
     "text": [
      "  developer  year\n",
      "0     valve  2011\n",
      "1     valve  2011\n",
      "2     valve  2012\n",
      "3     valve  2012\n",
      "4     valve  2013\n"
     ]
    }
   ],
   "source": [
    "# creamos 2 dataframes con las columnas requeridas y hacemos un inner join\n",
    "df_reviews_API4 = df_reviews_en[['item_id', 'recommend', 'year']]\n",
    "df_games_API4 = df_games[['item_id', 'developer']]\n",
    "\n",
    "df_API4 = pd.merge(df_games_API4, df_reviews_API4, on = \"item_id\", how = \"inner\")\n",
    "\n",
    "# filtramos para obtener solo las recomendaciones positivas\n",
    "df_API4 = df_API4[df_API4['recommend'] == True]\n",
    "\n",
    "# Nos quedamos solo con las 2 columnas requeridas\n",
    "df_API4 = df_API4[['developer', 'year']]\n",
    "\n",
    "print(df_API4.head())\n",
    "\n",
    "#df_API4.to_parquet(r'df_API4.parquet',index=False)\n"
   ]
  },
  {
   "cell_type": "code",
   "execution_count": 66,
   "metadata": {},
   "outputs": [
    {
     "data": {
      "text/plain": [
       "developer\n",
       "valve                    1754\n",
       "facepunch studios         382\n",
       "smartly dressed games     193\n",
       "Name: count, dtype: int64"
      ]
     },
     "execution_count": 66,
     "metadata": {},
     "output_type": "execute_result"
    }
   ],
   "source": [
    "def best_developer(anio):\n",
    "\n",
    "    # Filtramos para obtener solo los datos del año indicado\n",
    "    fila_year = df_API4[df_API4['year'] == anio]\n",
    "\n",
    "    # Contamos la cantidad de recomendaciones True\n",
    "    recomen = fila_year['developer'].value_counts()\n",
    "    recomen = recomen.head(3)\n",
    "\n",
    "    return recomen\n",
    "\n",
    "best_developer(2015)\n"
   ]
  },
  {
   "cell_type": "code",
   "execution_count": 67,
   "metadata": {},
   "outputs": [],
   "source": [
    "df_API4.to_parquet(\"df_game_review_API4.parquet\", index=False )"
   ]
  },
  {
   "cell_type": "markdown",
   "metadata": {},
   "source": [
    "### 3. userForGenre( genero : str ): \n",
    "\n",
    "Debe devolver el usuario que acumula más horas jugadas para el género dado y una lista de la acumulación de horas jugadas por año de lanzamiento.\n",
    "\n",
    "Ejemplo de retorno: {\"Usuario con más horas jugadas para Género X\" : us213ndjss09sdf, \"Horas jugadas\":[{Año: 2013, Horas: 203}, {Año: 2012, Horas: 100}, {Año: 2011, Horas: 23}]}"
   ]
  },
  {
   "cell_type": "code",
   "execution_count": null,
   "metadata": {},
   "outputs": [],
   "source": [
    "#print(df_games.info())\n",
    "#df_games['release_date'] = pd.to_datetime(df_games['release_date'], errors='coerce')\n",
    "#df_games['year'] = df_games['release_date'].dt.year\n",
    "#df_games = df_games.dropna(subset=['year'])\n",
    "#print(df_games.info())\n"
   ]
  },
  {
   "cell_type": "code",
   "execution_count": 68,
   "metadata": {},
   "outputs": [],
   "source": [
    "df_games['item_id'] = df_games['item_id'].astype(int) \n",
    "df_items_exp['item_id'] = df_items_exp['item_id'].astype(int) "
   ]
  },
  {
   "cell_type": "code",
   "execution_count": 69,
   "metadata": {},
   "outputs": [],
   "source": [
    "df_games_API3 = df_games[['item_id','genres','year']]\n",
    "df_items_API3 = df_items_exp[['user_id', 'item_id', 'playtime_forever']]\n",
    "df_API3 = pd.merge(df_games_API3, df_items_API3, on='item_id', how = \"inner\")\n",
    "\n",
    "#print(df_API3.head())"
   ]
  },
  {
   "cell_type": "code",
   "execution_count": 70,
   "metadata": {},
   "outputs": [
    {
     "data": {
      "text/plain": [
       "{'Usuario con más horas jugadas para Género racing:': 'DownSyndromeKid',\n",
       " 'Horas jugadas': [{'Año': 1994, 'Horas': 0},\n",
       "  {'Año': 1995, 'Horas': 318},\n",
       "  {'Año': 1996, 'Horas': 0},\n",
       "  {'Año': 1999, 'Horas': 0},\n",
       "  {'Año': 2005, 'Horas': 91},\n",
       "  {'Año': 2006, 'Horas': 74553},\n",
       "  {'Año': 2007, 'Horas': 147814},\n",
       "  {'Año': 2008, 'Horas': 147707},\n",
       "  {'Año': 2010, 'Horas': 0},\n",
       "  {'Año': 2011, 'Horas': 295361},\n",
       "  {'Año': 2013, 'Horas': 74271},\n",
       "  {'Año': 2014, 'Horas': 990},\n",
       "  {'Año': 2015, 'Horas': 1910},\n",
       "  {'Año': 2016, 'Horas': 185}]}"
      ]
     },
     "execution_count": 70,
     "metadata": {},
     "output_type": "execute_result"
    }
   ],
   "source": [
    "# Funcion para resolver problema API NO. 3: userForGenre\n",
    "def userForGenre(genero:str, df_API3):\n",
    "    \n",
    "    # Filtramos el dataframe por genero\n",
    "    df_filtrado = df_API3[df_API3['genres'].apply(lambda lista: genero in map(str.lower, lista) if isinstance(lista, list) else False)]\n",
    "\n",
    "    # Agrupamos por 'user_id' sumamos las horas jugadas para obtener el jugador con max de horas jugadas\n",
    "    df_horas_jugadas_1 = df_filtrado.groupby(['user_id'])['playtime_forever'].sum().reset_index()\n",
    "\n",
    "    # Buscamos el usuario con la máxima suma de horas jugadas\n",
    "    index_playtime_max = df_horas_jugadas_1['playtime_forever'].idxmax()\n",
    "    usuario_playtime_max = df_horas_jugadas_1.loc[index_playtime_max, 'user_id']\n",
    "\n",
    "    # Agrupamos por 'user_id' y por 'year' y sumamos las horas jugadas para poder discretizar por años\n",
    "    df_horas_jugadas_2 = df_filtrado.groupby(['user_id', 'year'])['playtime_forever'].sum().reset_index()\n",
    "\n",
    "    # Filtrar el DataFrame para el usuario con máxima suma de horas jugadas\n",
    "    df_usuario = df_horas_jugadas_2[df_horas_jugadas_2['user_id'] == usuario_playtime_max]\n",
    "\n",
    "    # Creamos el formato para mostrar el resutado \n",
    "    resultado_final = [{'Año': int(row['year']), 'Horas': int(row['playtime_forever'])} for _, row in df_usuario.iterrows()]\n",
    "\n",
    "    return {\"Usuario con más horas jugadas para Género {}:\".format(genero): usuario_playtime_max, \"Horas jugadas\": resultado_final}\n",
    "\n",
    "# Ejemplo de uso\n",
    "userForGenre('racing',df_API3)\n",
    "    "
   ]
  },
  {
   "cell_type": "code",
   "execution_count": 71,
   "metadata": {},
   "outputs": [],
   "source": [
    "df_API3.to_parquet(\"df_game_items_API3.parquet\", index=False )"
   ]
  },
  {
   "cell_type": "markdown",
   "metadata": {},
   "source": [
    "### 2. userdata( User_id : str ): \n",
    "\n",
    "Debe devolver cantidad de dinero gastado por el usuario, el porcentaje de recomendación en base a reviews.recommend y cantidad de items.\n",
    "\n",
    "Ejemplo de retorno: {\"Usuario X\" : us213ndjss09sdf, \"Dinero gastado\": 200 USD, \"% de recomendación\": 20%, \"cantidad de items\": 5}"
   ]
  },
  {
   "cell_type": "code",
   "execution_count": null,
   "metadata": {},
   "outputs": [],
   "source": [
    "#print(df_games.columns)\n",
    "#print(df_reviews_en.columns)\n",
    "#print(df_items_exp.columns)"
   ]
  },
  {
   "cell_type": "code",
   "execution_count": 74,
   "metadata": {},
   "outputs": [
    {
     "data": {
      "text/plain": [
       "'{\"Usuario\": \"DownSyndromeKid\", \"Dinero gastado\": 5768.70 USD, \"% de recomendación\": 0.00%, \"Cantidad de items\": 1218}'"
      ]
     },
     "execution_count": 74,
     "metadata": {},
     "output_type": "execute_result"
    }
   ],
   "source": [
    "df_games_API2 = df_games[['item_id','price']]\n",
    "df_items_API2 = df_items_exp[['user_id', 'item_id']]\n",
    "df_reviews_API2 = df_reviews_en[['user_id', 'recommend']]\n",
    "\n",
    "df_API2 = pd.merge(df_games_API2, df_items_API2, on='item_id', how = \"inner\")\n",
    "\n",
    "# Filtro para tomar solo las filas con recommend = True\n",
    "df_review_true_API2 = df_reviews_API2[df_reviews_API2['recommend'] == True] \n",
    "#print(review_true.info())\n",
    "\n",
    "def userdata(usuario:str):\n",
    "    \n",
    "    # filtro con valor de usuario en tabla que combina games e items\n",
    "    filtro_usuario = df_API2['user_id'].str.contains(usuario, case=False, na=False)\n",
    "    df_filtrado = df_API2[filtro_usuario]\n",
    "    # print(df_filtrado.head())\n",
    "\n",
    "    # Total gastado por el usuario\n",
    "    gastado = df_filtrado['price'].sum()\n",
    "    #print(\"gastado:\", gastado)\n",
    "\n",
    "    # Total de items\n",
    "    total_items= df_filtrado.shape[0]\n",
    "    #print(\"total items:\", total_items)\n",
    "\n",
    "    # Calculo de % de recomendacion\n",
    "    # Filtro con valor de usuario en tabla review\n",
    "    review_usuario = df_review_true_API2[df_review_true_API2['user_id'] == usuario] \n",
    "\n",
    "    items_total = (df_filtrado['item_id'].value_counts())   # total de items\n",
    "    #print(\"items:\", items_total.shape[0])\n",
    "\n",
    "    #review_usuario = review_true[review_true['user_id'] == usuario]   # total de recomendados\n",
    "    #print(review_usuario.head())\n",
    "    \n",
    "    porcentaje_recomen = (review_usuario.shape[0]*100/items_total.shape[0])\n",
    "\n",
    "    # Creamos el formato para mostrar el resutado\n",
    "    resultado = (f'{{\"Usuario\": \"{usuario}\", \"Dinero gastado\": {gastado:.2f} USD, \"% de recomendación\": {porcentaje_recomen:.2f}%, \"Cantidad de items\": {total_items}}}')\n",
    "\n",
    "    return resultado\n",
    "\n",
    "# Ejemplo de uso\n",
    "userdata('DownSyndromeKid')\n",
    "\n",
    "# df_games_anio.to_parquet(r'./Datasets/df_games_developer.parquet',index=False)"
   ]
  },
  {
   "cell_type": "code",
   "execution_count": 75,
   "metadata": {},
   "outputs": [],
   "source": [
    "df_API2.to_parquet(r'./Datasets/df_games_items_API2.parquet',index=False)\n",
    "df_review_true_API2.to_parquet(r'./Datasets/df_review_true_API2.parquet',index=False)"
   ]
  },
  {
   "cell_type": "markdown",
   "metadata": {},
   "source": [
    "### 1. def developer ( desarrollador : str ): \n",
    "\n",
    "Cantidad de items y porcentaje de contenido Free por año según empresa desarrolladora"
   ]
  },
  {
   "cell_type": "code",
   "execution_count": 76,
   "metadata": {},
   "outputs": [
    {
     "name": "stdout",
     "output_type": "stream",
     "text": [
      "+------+-------------------+----------------+\n",
      "| Año  | Cantidad de Items | Contenido Free |\n",
      "+------+-------------------+----------------+\n",
      "| 2016 |        33         |      42%       |\n",
      "| 2017 |        17         |      35%       |\n",
      "+------+-------------------+----------------+\n"
     ]
    }
   ],
   "source": [
    "df_games_API1 = df_games[['developer', 'price', 'year']]\n",
    "\n",
    "#empresa = 'monster games'\n",
    "\n",
    "def developer(empresa):\n",
    "    # filtrado\n",
    "    df_games_filtra = df_games_API1[df_games_API1['developer'] == empresa]\n",
    "    #print(df_games_filtra.head(100))\n",
    "\n",
    "    #df_filtrado_kotoshiro = df_games_API1[df_games_API1['developer'] == 'kotoshiro']\n",
    "\n",
    "    # Agrupado por año\n",
    "    df_games_anio = df_games_filtra.groupby(['year'])['price'].size().reset_index() \n",
    "    #print(df_games_anio.head(10))\n",
    "\n",
    "    # Filtro para obtener solo los contenidos free\n",
    "    df_games_free = df_games_filtra[df_games_filtra['price'] == 0]\n",
    "    #print(df_games_free.head(20))\n",
    "\n",
    "    # Agrupamos por año\n",
    "    df_games_free_anio = df_games_free.groupby(['year'])['price'].size().reset_index()\n",
    "    #print(df_games_free_anio.head(100))\n",
    "\n",
    "    # Se obtiene el porcetanje de conteido free\n",
    "    df_games_anio['percent_free']= df_games_free_anio['price']*100 / df_games_anio['price']\n",
    "    #print(df_games_anio)\n",
    "\n",
    "    # Damos el formato solicitado\n",
    "    df_games_anio.columns = ['Año', 'Cantidad de Items', 'Contenido Free']\n",
    "    df_games_anio['Año'] = df_games_anio['Año'].map('{:.0f}'.format)\n",
    "    df_games_anio['Contenido Free'] = df_games_anio['Contenido Free'].map('{:.0f}%'.format)\n",
    "\n",
    "    # Imprimir la tabla formateada con nombres de columnas personalizados\n",
    "    print(tabulate(df_games_anio, headers='keys', tablefmt='pretty', showindex=False))\n",
    "\n",
    "    return df_games_anio\n",
    "\n",
    "developer('monster games')\n",
    "\n",
    "df_games_API1.to_parquet(r'./Datasets/df_games_API1.parquet',index=False)"
   ]
  },
  {
   "cell_type": "markdown",
   "metadata": {},
   "source": [
    "## Modelo de aprendizaje automático"
   ]
  },
  {
   "cell_type": "code",
   "execution_count": 77,
   "metadata": {},
   "outputs": [
    {
     "name": "stdout",
     "output_type": "stream",
     "text": [
      "Index(['publisher', 'genres', 'app_name', 'title', 'url', 'release_date',\n",
      "       'tags', 'reviews_url', 'specs', 'price', 'early_access', 'item_id',\n",
      "       'developer', 'year'],\n",
      "      dtype='object')\n",
      "Index(['user_id', 'item_id', 'item_name', 'playtime_forever'], dtype='object')\n",
      "Index(['user_id', 'item_id', 'recommend', 'review', 'year', 'idioma',\n",
      "       'sentimiento', 'sentimiento_etiqueta'],\n",
      "      dtype='object')\n"
     ]
    }
   ],
   "source": [
    "print(df_games.columns)\n",
    "print(df_items_exp.columns)\n",
    "print(df_reviews_en.columns)"
   ]
  },
  {
   "cell_type": "code",
   "execution_count": 78,
   "metadata": {},
   "outputs": [],
   "source": [
    "# Seleccionamos las columnas necesarias de los dataframes de interes para el sistema de recomendacion \n",
    "#df_reviews = pd.read_parquet(\"reviews_eda.parquet\")\n",
    "#df_games = pd.read_parquet(\"games_eda.parquet\")\n",
    "\n",
    "df_games_ML = df_games[[\"item_id\",\"title\"]]\n",
    "df_reviews_ML = df_reviews_en[[\"user_id\",\"item_id\",\"recommend\"]]\n",
    "\n",
    "# Hacemos el merge entre los dos dataframes y ns quedamos solo con las columna necesarias \n",
    "df_ML = pd.merge(df_reviews_ML,df_games_ML, on=\"item_id\", how=\"inner\")\n",
    "df_ML = df_ML[[\"user_id\",\"title\",\"recommend\"]]\n",
    "\n",
    "#df_ML_filtered = df_ML[df_ML['recommend'] == True]\n",
    "df_ML = df_ML.astype(str)\n",
    "#df.to_parquet(\"df_ML.parquet\", index= False)"
   ]
  },
  {
   "cell_type": "code",
   "execution_count": 79,
   "metadata": {},
   "outputs": [
    {
     "name": "stdout",
     "output_type": "stream",
     "text": [
      "['Team Fortress 2', \"Garry's Mod\", 'Counter-Strike: Global Offensive', 'Warframe', 'Left 4 Dead 2']\n"
     ]
    },
    {
     "data": {
      "text/plain": [
       "['Team Fortress 2',\n",
       " \"Garry's Mod\",\n",
       " 'Counter-Strike: Global Offensive',\n",
       " 'Warframe',\n",
       " 'Left 4 Dead 2']"
      ]
     },
     "execution_count": 79,
     "metadata": {},
     "output_type": "execute_result"
    }
   ],
   "source": [
    "from sklearn.metrics.pairwise import cosine_similarity\n",
    "\n",
    "#user_id = \"76561197970982479\"\n",
    "\n",
    "# Funcion para implementar el calculo del cosine_similarity y recomendar los 5 juegos solicitados\n",
    "def recomendacion_usuario(user_id :str):\n",
    "\n",
    "    # Crear una matriz de recomendaciones donde las filas son usuarios y las columnas son juegos\n",
    "    user_game_matrix = pd.crosstab(df_ML['user_id'], df_ML['title'])\n",
    "\n",
    "    try:\n",
    "        # Encuentra el índice del usuario en la matriz\n",
    "        user_index = user_game_matrix.index.get_loc(user_id)\n",
    "    except KeyError:\n",
    "        print(f\"El usuario {user_id} no está presente en los datos.\")\n",
    "        return None\n",
    "\n",
    "    # Calcula la similitud de coseno entre los usuarios\n",
    "    cosine_similarities = cosine_similarity(user_game_matrix, user_game_matrix)\n",
    "\n",
    "    # Obtén las similitudes de coseno para el usuario dado\n",
    "    similar_users = cosine_similarities[user_index]\n",
    "\n",
    "    # Encuentra los juegos que el usuario no ha calificado\n",
    "    games_played = user_game_matrix.loc[user_id]\n",
    "    unrated_games = games_played[games_played == 0].index\n",
    "\n",
    "    # Calcula las puntuaciones de recomendación sumando las similitudes de usuarios para los juegos no calificados\n",
    "    recommendation_scores = user_game_matrix.loc[:, unrated_games].multiply(similar_users, axis=0).sum(axis=0)\n",
    "\n",
    "    # Ordena las recomendaciones por puntuación descendente\n",
    "    recommendations = recommendation_scores.sort_values(ascending=False).index.tolist()\n",
    "\n",
    "    # Limita las recomendaciones a los primeros 5 juegos\n",
    "    top_recommendations = recommendations[:5]\n",
    "    #print(top_recommendations)\n",
    "\n",
    "    return top_recommendations\n",
    "\n",
    "# Ejemplo de uso:\n",
    "# usuario_a_recomendar es el ID del usuario para el que quieres obtener recomendaciones\n",
    "recomendacion_usuario('76561197970982479')\n"
   ]
  }
 ],
 "metadata": {
  "kernelspec": {
   "display_name": "Python 3",
   "language": "python",
   "name": "python3"
  },
  "language_info": {
   "codemirror_mode": {
    "name": "ipython",
    "version": 3
   },
   "file_extension": ".py",
   "mimetype": "text/x-python",
   "name": "python",
   "nbconvert_exporter": "python",
   "pygments_lexer": "ipython3",
   "version": "3.11.5"
  }
 },
 "nbformat": 4,
 "nbformat_minor": 2
}
